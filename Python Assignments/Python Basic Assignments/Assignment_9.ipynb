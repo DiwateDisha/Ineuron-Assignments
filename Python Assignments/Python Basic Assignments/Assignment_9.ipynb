{
  "nbformat": 4,
  "nbformat_minor": 0,
  "metadata": {
    "colab": {
      "provenance": []
    },
    "kernelspec": {
      "name": "python3",
      "display_name": "Python 3"
    },
    "language_info": {
      "name": "python"
    }
  },
  "cells": [
    {
      "cell_type": "markdown",
      "source": [
        "**Assignment 9**"
      ],
      "metadata": {
        "id": "InZ1zxewN_GD"
      }
    },
    {
      "cell_type": "markdown",
      "source": [
        "1. To what does a relative path refer?\n",
        "**Ans:** Relative paths are relative to the current working directory. When using relative path, we need to provide the absolute/complete path of file from the root directory, instead we can give the partial/relative path to indicate the file location."
      ],
      "metadata": {
        "id": "mXPH0cjfOAon"
      }
    },
    {
      "cell_type": "markdown",
      "source": [
        "---"
      ],
      "metadata": {
        "id": "rNCdI1dWQk3X"
      }
    },
    {
      "cell_type": "markdown",
      "source": [
        "2. Where does an absolute path start with your Operating System ?\n",
        "**Ans:** In Linux based Operating systems the absolute path starts with `/` where as in Windows based Operating systems absolute path starts with `C:`"
      ],
      "metadata": {
        "id": "4E_xeC40QlaZ"
      }
    },
    {
      "cell_type": "markdown",
      "source": [
        "---"
      ],
      "metadata": {
        "id": "0ktlJx2XQzE8"
      }
    },
    {
      "cell_type": "markdown",
      "source": [
        "3. What do the functions os.getcwd() and os.chdir() do?\n",
        "**Ans:** os.chdir() performs change directory\n",
        "\n",
        "os.getcwd() gives current working directory"
      ],
      "metadata": {
        "id": "GC8f9udAQzmx"
      }
    },
    {
      "cell_type": "markdown",
      "source": [
        "----"
      ],
      "metadata": {
        "id": "ij1Q2lLkRGjs"
      }
    },
    {
      "cell_type": "markdown",
      "source": [
        "4. What are the . and .. folders?\n",
        "**Ans:** These are not real folder but are special names for path\n",
        "\n",
        "(.) = this directory\n",
        "\n",
        "(..)= parent directory"
      ],
      "metadata": {
        "id": "sF9ti5uLRHlO"
      }
    },
    {
      "cell_type": "markdown",
      "source": [
        "---"
      ],
      "metadata": {
        "id": "d03rSc6xRVfl"
      }
    },
    {
      "cell_type": "markdown",
      "source": [
        "5. In C:\\bacon\\eggs\\spam.txt, which part is the dir name, and which part is the base name?\n",
        "**Ans:**C:\\bacon\\eggs --> dir name\n",
        "\n",
        "spam.txt --> base name"
      ],
      "metadata": {
        "id": "m2SbvybWRWAR"
      }
    },
    {
      "cell_type": "markdown",
      "source": [
        "---"
      ],
      "metadata": {
        "id": "o1ZpqYeZSEhZ"
      }
    },
    {
      "cell_type": "markdown",
      "source": [
        "6. What are the three “mode” arguments that can be passed to the open() function?\n",
        "**Ans:**Three mode arguments are:\n",
        "\n",
        "1. 'r': open for reading in text mode.\n",
        "\n",
        "2. 'w': open for writing.\n",
        "\n",
        "3. 'a': open for appending."
      ],
      "metadata": {
        "id": "3O11n7KFSFQ6"
      }
    },
    {
      "cell_type": "markdown",
      "source": [
        "---"
      ],
      "metadata": {
        "id": "8hKnZ-U2Uxry"
      }
    },
    {
      "cell_type": "markdown",
      "source": [
        "7. What happens if an existing file is opened in write mode?\n",
        "**Ans:** When an existing file is opened in write mode previous content is erased and file is treated as \n",
        "new empty file."
      ],
      "metadata": {
        "id": "gm6aCiLIScKH"
      }
    },
    {
      "cell_type": "markdown",
      "source": [
        "---"
      ],
      "metadata": {
        "id": "5f4zRceiUe_b"
      }
    },
    {
      "cell_type": "markdown",
      "source": [
        "8. How do you tell the difference between read() and readlines()?\n",
        "**Ans:** The read() method returns the file’s entire contents as a single string value.\n",
        "\n",
        "The readlines() method returns a list of strings, where each string is a line from the file’s contents."
      ],
      "metadata": {
        "id": "Hg7WFkVPUf6B"
      }
    },
    {
      "cell_type": "markdown",
      "source": [
        "---"
      ],
      "metadata": {
        "id": "eJsMq7tuUlW5"
      }
    },
    {
      "cell_type": "markdown",
      "source": [
        "\n",
        "9. What data structure does a shelf value resemble?\n",
        "**Ans:** A shelf value resembles a dictionary value; it has keys and values, along with keys() and values() methods that work similarly to the dictionary methods of the same names."
      ],
      "metadata": {
        "id": "gSs8fh1MUl36"
      }
    },
    {
      "cell_type": "markdown",
      "source": [
        "---"
      ],
      "metadata": {
        "id": "5RysFuywUvxq"
      }
    }
  ]
}