{
  "nbformat": 4,
  "nbformat_minor": 0,
  "metadata": {
    "colab": {
      "provenance": []
    },
    "kernelspec": {
      "name": "python3",
      "display_name": "Python 3"
    },
    "language_info": {
      "name": "python"
    }
  },
  "cells": [
    {
      "cell_type": "markdown",
      "source": [
        "**Assignment 2**"
      ],
      "metadata": {
        "id": "G7S7UrWpYxNU"
      }
    },
    {
      "cell_type": "markdown",
      "source": [
        "**1**.What are the two values of the Boolean data type? How do you write them?\n",
        "\n",
        "**Ans:** True and False are two values of the boolen data types. We have to use capital T and F and with the rest of the word in lowercase"
      ],
      "metadata": {
        "id": "I_FpoFTXZDzC"
      }
    },
    {
      "cell_type": "code",
      "execution_count": null,
      "metadata": {
        "colab": {
          "base_uri": "https://localhost:8080/"
        },
        "id": "VUbAXS88YjPA",
        "outputId": "2ba3596d-8431-4e3a-b562-246c964e3651"
      },
      "outputs": [
        {
          "output_type": "stream",
          "name": "stdout",
          "text": [
            "a:  True\n",
            "b:  False\n"
          ]
        }
      ],
      "source": [
        "a = True\n",
        "b = False\n",
        "print('a: ', a)\n",
        "print('b: ', b)"
      ]
    },
    {
      "cell_type": "markdown",
      "source": [
        "---"
      ],
      "metadata": {
        "id": "v-vTq9-RvVus"
      }
    },
    {
      "cell_type": "markdown",
      "source": [
        "\n",
        "2. What are the three different types of Boolean operators?\n",
        "**Ans:**There different types of Boolean operators are:\n",
        "\n",
        "    1.AND\n",
        "    2.OR\n",
        "    3.NOT"
      ],
      "metadata": {
        "id": "hzeXhyPgYwQL"
      }
    },
    {
      "cell_type": "code",
      "source": [
        "a=100\n",
        "b=200\n",
        "print(a>50 and b>100) # Example of boolean and\n",
        "print(a>200 or b>100) # Example of boolean or\n",
        "print(not(a>10)) # Example of boolean not"
      ],
      "metadata": {
        "colab": {
          "base_uri": "https://localhost:8080/"
        },
        "id": "wXM_ZF2llV7k",
        "outputId": "60472eb9-8f8c-4ad3-e2c9-0dfe96917515"
      },
      "execution_count": null,
      "outputs": [
        {
          "output_type": "stream",
          "name": "stdout",
          "text": [
            "True\n",
            "True\n",
            "False\n"
          ]
        }
      ]
    },
    {
      "cell_type": "markdown",
      "source": [
        "---"
      ],
      "metadata": {
        "id": "8Qmy2qnTvZal"
      }
    },
    {
      "cell_type": "markdown",
      "source": [
        "3. Make a list of each Boolean operator's truth tables (i.e. every possible combination of Boolean values for the operator and what it evaluate ).\n",
        "\n",
        "**Ans:** "
      ],
      "metadata": {
        "id": "8d4fX40ulQlE"
      }
    },
    {
      "cell_type": "code",
      "source": [
        "list_AND = [1 and 1, 1 and 0, 0 and 1, 0 and 0]\n",
        "list_AND"
      ],
      "metadata": {
        "colab": {
          "base_uri": "https://localhost:8080/"
        },
        "id": "asm1Czk9mJ-0",
        "outputId": "36ed18dd-f7ec-466a-ecc6-988aadb34c7c"
      },
      "execution_count": null,
      "outputs": [
        {
          "output_type": "execute_result",
          "data": {
            "text/plain": [
              "[1, 0, 0, 0]"
            ]
          },
          "metadata": {},
          "execution_count": 3
        }
      ]
    },
    {
      "cell_type": "code",
      "source": [
        "list_OR = [1 or 1, 1 or 0, 0 or 1, 0 or 0]\n",
        "list_OR"
      ],
      "metadata": {
        "colab": {
          "base_uri": "https://localhost:8080/"
        },
        "id": "jtDUeOj1mMxq",
        "outputId": "5ac63dbf-6c96-4602-ed27-562a195a2267"
      },
      "execution_count": null,
      "outputs": [
        {
          "output_type": "execute_result",
          "data": {
            "text/plain": [
              "[1, 1, 1, 0]"
            ]
          },
          "metadata": {},
          "execution_count": 4
        }
      ]
    },
    {
      "cell_type": "code",
      "source": [
        "list_NOT = [not 1, not 0]\n",
        "list_NOT\n"
      ],
      "metadata": {
        "colab": {
          "base_uri": "https://localhost:8080/"
        },
        "id": "pSRc7zTZmXOV",
        "outputId": "55af91d1-69ff-49d8-930d-f9777d06f112"
      },
      "execution_count": null,
      "outputs": [
        {
          "output_type": "execute_result",
          "data": {
            "text/plain": [
              "[False, True]"
            ]
          },
          "metadata": {},
          "execution_count": 5
        }
      ]
    },
    {
      "cell_type": "markdown",
      "source": [
        "---"
      ],
      "metadata": {
        "id": "jOG_QeYgvfZV"
      }
    },
    {
      "cell_type": "markdown",
      "source": [
        "4. What are the values of the following expressions?\n",
        "\n",
        "\n",
        "    (5 > 4) and (3 == 5)\n",
        "    not (5 > 4)\n",
        "    (5 > 4) or (3 == 5)\n",
        "    not ((5 > 4) or (3 == 5))\n",
        "    (True and True) and (True == False)\n",
        "    (not False) or (not True)\n",
        "\n",
        "**Ans:**"
      ],
      "metadata": {
        "id": "1FL3QU35mbJB"
      }
    },
    {
      "cell_type": "code",
      "source": [
        "print((5>4)and(3==5))\n",
        "print(not(5>4))\n",
        "print((5>4)or(3==5))\n",
        "print(not((5>4)or(3==5)))\n",
        "print((True and True)and(True==False))\n",
        "print((not False)or(not True))"
      ],
      "metadata": {
        "colab": {
          "base_uri": "https://localhost:8080/"
        },
        "id": "_fTMyqW5msMu",
        "outputId": "74930f0b-6749-4ab5-ebb2-4a5ce766e871"
      },
      "execution_count": null,
      "outputs": [
        {
          "output_type": "stream",
          "name": "stdout",
          "text": [
            "False\n",
            "False\n",
            "True\n",
            "False\n",
            "False\n",
            "True\n"
          ]
        }
      ]
    },
    {
      "cell_type": "markdown",
      "source": [
        "---"
      ],
      "metadata": {
        "id": "0pIH8Ic7vile"
      }
    },
    {
      "cell_type": "markdown",
      "source": [
        "\n",
        "5. What are the six comparison operators?\n",
        "\n",
        "**Ans:** The Six comparision operators available in python are:\n",
        "\n",
        "    == , != , < , > , <= , =>"
      ],
      "metadata": {
        "id": "GTe9GBJimreF"
      }
    },
    {
      "cell_type": "markdown",
      "source": [
        "---"
      ],
      "metadata": {
        "id": "r9dyv0Vtvk9Q"
      }
    },
    {
      "cell_type": "markdown",
      "source": [
        "6. How do you tell the difference between the equal to and assignment operators? Describe a condition and when you would use one.\n",
        "\n",
        "**Ans:** \n",
        "1. ' = ' : single equals to sign is used for the assignment operation.\n",
        "2. ' == ' : double equals to sign is used for the equal to condition check.\n",
        "\n",
        "When we want to assign something we use the assignment operator For eg. a = 10.\n",
        "\n",
        "When we want to check some condition we use the equal to condition check operator. For eg. 10 == 100"
      ],
      "metadata": {
        "id": "YtXRCzbfnAU0"
      }
    },
    {
      "cell_type": "markdown",
      "source": [
        "---"
      ],
      "metadata": {
        "id": "-jM-ZwEAvneU"
      }
    },
    {
      "cell_type": "markdown",
      "source": [
        "\n",
        "7. Identify the three blocks in this code:\n",
        "\n",
        "\n",
        "    spam = 0\n",
        "    if spam == 10:\n",
        "    print('eggs')\n",
        "    if spam > 5:\n",
        "    print('bacon')\n",
        "    else:\n",
        "    print('ham')\n",
        "    print('spam')\n",
        "    print('spam')\n",
        "\n",
        "**Ans:**"
      ],
      "metadata": {
        "id": "uAp0dyeEoPPL"
      }
    },
    {
      "cell_type": "code",
      "source": [
        "spam = 0\n",
        "if spam == 10:\n",
        "  print('eggs')\n",
        "if spam > 5:\n",
        "  print('bacon')\n",
        "else:\n",
        "  print('ham')\n",
        "print('spam')\n",
        "print('spam')"
      ],
      "metadata": {
        "colab": {
          "base_uri": "https://localhost:8080/"
        },
        "id": "uL7bSTSPtcZj",
        "outputId": "d6067737-f1ef-4c8c-cde1-7d6bbc28f05b"
      },
      "execution_count": null,
      "outputs": [
        {
          "output_type": "stream",
          "name": "stdout",
          "text": [
            "ham\n",
            "spam\n",
            "spam\n"
          ]
        }
      ]
    },
    {
      "cell_type": "markdown",
      "source": [
        "---"
      ],
      "metadata": {
        "id": "kJlX0T5Qt2pN"
      }
    },
    {
      "cell_type": "markdown",
      "source": [
        "8. Write code that prints Hello if 1 is stored in spam, prints Howdy if 2 is stored in spam, and prints Greetings! if anything else is stored in spam.\n",
        "\n",
        "**Ans:**"
      ],
      "metadata": {
        "id": "4PPByJ1ZwPvM"
      }
    },
    {
      "cell_type": "code",
      "source": [
        "def spamCode(spam):\n",
        "    if spam==1:\n",
        "        print('Hello')\n",
        "    elif spam==2:\n",
        "        print('Howdy')\n",
        "    else:\n",
        "        print('Greetings')\n",
        "        \n",
        "spamCode(1) \n",
        "spamCode(2)\n",
        "spamCode(3)"
      ],
      "metadata": {
        "colab": {
          "base_uri": "https://localhost:8080/"
        },
        "id": "0fAn_4zZt5Jj",
        "outputId": "a7adda5e-8dbd-48cb-a565-1a3a5a150ee3"
      },
      "execution_count": null,
      "outputs": [
        {
          "output_type": "stream",
          "name": "stdout",
          "text": [
            "Hello\n",
            "Howdy\n",
            "Greetings\n"
          ]
        }
      ]
    },
    {
      "cell_type": "markdown",
      "source": [
        "---"
      ],
      "metadata": {
        "id": "-SUMqBu2wgLK"
      }
    },
    {
      "cell_type": "markdown",
      "source": [
        "\n",
        "9. If your programme is stuck in an endless loop, what keys you’ll press?\n",
        "\n",
        "**Ans:** Press Ctrl-c to stop a program stuck in an infinite loop"
      ],
      "metadata": {
        "id": "x1AEhsDVwkaU"
      }
    },
    {
      "cell_type": "markdown",
      "source": [
        "---"
      ],
      "metadata": {
        "id": "-zdHlBuKw1CC"
      }
    },
    {
      "cell_type": "markdown",
      "source": [
        "10. How can you tell the difference between break and continue?\n",
        "\n",
        "**Ans:** \n",
        "\n",
        "1.   **Break:** It is used to break the loop and exit from the loop\n",
        "2.   **continue:** It is used to skip the current iteration of the loop and continue with the next iteration."
      ],
      "metadata": {
        "id": "qOPZaS70w5DH"
      }
    },
    {
      "cell_type": "markdown",
      "source": [
        "---"
      ],
      "metadata": {
        "id": "xi-Z7hvHxTSh"
      }
    },
    {
      "cell_type": "markdown",
      "source": [
        "11. In a for loop, what is the difference between range(10), range(0, 10), and range(0, 10, 1)?\n",
        "\n",
        "**Ans:** "
      ],
      "metadata": {
        "id": "lLAdEQa_xVRR"
      }
    },
    {
      "cell_type": "code",
      "source": [
        "for i in range(10):\n",
        "    print(i, end = ' ')"
      ],
      "metadata": {
        "colab": {
          "base_uri": "https://localhost:8080/"
        },
        "id": "W91GUlQiw3xq",
        "outputId": "c64c6296-a4aa-4f07-f10e-4e2cf6195db9"
      },
      "execution_count": null,
      "outputs": [
        {
          "output_type": "stream",
          "name": "stdout",
          "text": [
            "0 1 2 3 4 5 6 7 8 9 "
          ]
        }
      ]
    },
    {
      "cell_type": "code",
      "source": [
        "for i in range(0, 10):\n",
        "    print(i, end = ' ')"
      ],
      "metadata": {
        "colab": {
          "base_uri": "https://localhost:8080/"
        },
        "id": "hjTSFdp2x44N",
        "outputId": "eb10d8b1-1ae7-43e1-b063-4f5ec94c96bc"
      },
      "execution_count": null,
      "outputs": [
        {
          "output_type": "stream",
          "name": "stdout",
          "text": [
            "0 1 2 3 4 5 6 7 8 9 "
          ]
        }
      ]
    },
    {
      "cell_type": "code",
      "source": [
        "for i in range(0, 10, 1):\n",
        "    print(i, end = ' ')"
      ],
      "metadata": {
        "colab": {
          "base_uri": "https://localhost:8080/"
        },
        "id": "797wu0QIx7HQ",
        "outputId": "93395df7-a9d0-49f4-cd32-f085b7ad5cfb"
      },
      "execution_count": null,
      "outputs": [
        {
          "output_type": "stream",
          "name": "stdout",
          "text": [
            "0 1 2 3 4 5 6 7 8 9 "
          ]
        }
      ]
    },
    {
      "cell_type": "markdown",
      "source": [
        "---"
      ],
      "metadata": {
        "id": "1igLjhc_x_E3"
      }
    },
    {
      "cell_type": "markdown",
      "source": [
        "\n",
        "12. Write a short program that prints the numbers 1 to 10 using a for loop. Then write an equivalent program that prints the numbers 1 to 10 using a while loop.\n",
        "\n",
        "**Ans:**"
      ],
      "metadata": {
        "id": "CynNopVjyZuC"
      }
    },
    {
      "cell_type": "code",
      "source": [
        "for i in range(1, 11):\n",
        "    print(i, end = ' ')"
      ],
      "metadata": {
        "colab": {
          "base_uri": "https://localhost:8080/"
        },
        "id": "KAjYCWdBx-gW",
        "outputId": "e84163f3-f300-4b3a-f60c-e4b8b0ad14a8"
      },
      "execution_count": null,
      "outputs": [
        {
          "output_type": "stream",
          "name": "stdout",
          "text": [
            "1 2 3 4 5 6 7 8 9 10 "
          ]
        }
      ]
    },
    {
      "cell_type": "code",
      "source": [
        "i = 1\n",
        "while i < 11:\n",
        "    print(i, end = ' ')\n",
        "    i += 1"
      ],
      "metadata": {
        "colab": {
          "base_uri": "https://localhost:8080/"
        },
        "id": "WXDzp55Gzc3D",
        "outputId": "5cba8f3a-fd0c-4dc8-dc5a-73c28a85bc89"
      },
      "execution_count": null,
      "outputs": [
        {
          "output_type": "stream",
          "name": "stdout",
          "text": [
            "1 2 3 4 5 6 7 8 9 10 "
          ]
        }
      ]
    },
    {
      "cell_type": "markdown",
      "source": [
        "---"
      ],
      "metadata": {
        "id": "bVj7-91Lze4V"
      }
    },
    {
      "cell_type": "markdown",
      "source": [
        "13. If you had a function named bacon() inside a module named spam, how would you call it after importing spam?\n",
        "\n",
        "**Ans:**\n",
        "    \n",
        "    import spam\n",
        "    spam.bacon()"
      ],
      "metadata": {
        "id": "uTsqJEc2zoLk"
      }
    },
    {
      "cell_type": "markdown",
      "source": [
        "---"
      ],
      "metadata": {
        "id": "SLW5ZJ-V0Aa7"
      }
    }
  ]
}