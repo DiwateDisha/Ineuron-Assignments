{
  "nbformat": 4,
  "nbformat_minor": 0,
  "metadata": {
    "colab": {
      "provenance": []
    },
    "kernelspec": {
      "name": "python3",
      "display_name": "Python 3"
    },
    "language_info": {
      "name": "python"
    }
  },
  "cells": [
    {
      "cell_type": "markdown",
      "source": [
        "**Assignment 1**"
      ],
      "metadata": {
        "id": "gjuipq0F2WPn"
      }
    },
    {
      "cell_type": "markdown",
      "source": [
        "1. In the below elements which of them are values or an expression? eg:- values can be\n",
        "integer or string and expressions will be mathematical operators.\n",
        "\n",
        "        *, 'hello', -87.8 , - , / , + , 6\n",
        "\n",
        "**Ans :-**\n",
        "    \n",
        "    Values: 'hello', -87.8, 6\n",
        "      \n",
        "    Expressions: *, -, /, +"
      ],
      "metadata": {
        "id": "VowRbveh3DkD"
      }
    },
    {
      "cell_type": "markdown",
      "source": [
        "---"
      ],
      "metadata": {
        "id": "vQ2ZE19Nyp1W"
      }
    },
    {
      "cell_type": "markdown",
      "source": [
        "2. What is the difference between string and variable?\n",
        "**Ans :-**  Variable is a container which can store the data and this data can be of any data-type.\n",
        "\n",
        "A String is a group of characters or a single character usually enclosed in Double quotes \" \" or single quotes ' '"
      ],
      "metadata": {
        "id": "y-u23Isz5T6B"
      }
    },
    {
      "cell_type": "markdown",
      "source": [
        "---"
      ],
      "metadata": {
        "id": "hhC3KmKjysJi"
      }
    },
    {
      "cell_type": "markdown",
      "source": [
        "3. Describe three different data types.\n",
        "\n",
        "**Ans:-** \n",
        "1.   **int**: We can use int data type to represent whole numbers.\n",
        "2.   **float**: We can use float data type to represent floating point values.\n",
        "3.   **complex**: Complex number is represented by complex class."
      ],
      "metadata": {
        "id": "eDqHB8XvD6nJ"
      }
    },
    {
      "cell_type": "markdown",
      "source": [
        "---"
      ],
      "metadata": {
        "id": "eq-XLakHyun9"
      }
    },
    {
      "cell_type": "markdown",
      "source": [
        "4. What is an expression made up of? What do all expressions do?\n",
        "\n",
        "**Ans:-** An expression is a combination of values, variables, operators, and calls to functions. Expressions need to be evaluated. If we ask Python to print an expression, the interpreter evaluates the expression and displays the result."
      ],
      "metadata": {
        "id": "TBJTDI6UHPtk"
      }
    },
    {
      "cell_type": "markdown",
      "source": [
        "---"
      ],
      "metadata": {
        "id": "An1N_S73y5vq"
      }
    },
    {
      "cell_type": "markdown",
      "source": [
        "5. This assignment statements, like spam = 10. What is the difference between an expression and a statement?\n",
        "\n",
        "**Ans:**  A statement is not evaluated for some results. A statement is used for creating variables or for displaying values. Whereas expression is a combination of operators and operands used to produce some result or value.\n",
        "\n",
        "\n",
        "\n",
        "    x = 25           # a statement\n",
        "    x = x + 10       # an expression"
      ],
      "metadata": {
        "id": "4jcfqgzNI_R4"
      }
    },
    {
      "cell_type": "markdown",
      "source": [
        "---"
      ],
      "metadata": {
        "id": "JbgVwoLdy71I"
      }
    },
    {
      "cell_type": "markdown",
      "source": [
        "6. After running the following code, what does the variable bacon contain?\n",
        "\n",
        "    bacon = 22\n",
        "\n",
        "    bacon + 1\n",
        "\n",
        "**Ans:**"
      ],
      "metadata": {
        "id": "WJEC5nfSMByv"
      }
    },
    {
      "cell_type": "code",
      "source": [
        "bacon=22\n",
        "bacon+1\n",
        "print(bacon)\n"
      ],
      "metadata": {
        "colab": {
          "base_uri": "https://localhost:8080/"
        },
        "id": "KizMyzQTL941",
        "outputId": "1250800e-579c-4396-81da-a6e2b6895abb"
      },
      "execution_count": null,
      "outputs": [
        {
          "output_type": "stream",
          "name": "stdout",
          "text": [
            "22\n"
          ]
        }
      ]
    },
    {
      "cell_type": "markdown",
      "source": [
        "---"
      ],
      "metadata": {
        "id": "ZS6onFl-y-Qw"
      }
    },
    {
      "cell_type": "markdown",
      "source": [
        "7. What should the values of the following two terms be?\n",
        "\n",
        "    'spam'+'spamspam'\n",
        "\n",
        "    'spam'*3\n",
        "**Ans:**"
      ],
      "metadata": {
        "id": "RMvCVXDAMMG7"
      }
    },
    {
      "cell_type": "code",
      "source": [
        "print('spam'+'spamspam')\n",
        "\n",
        "print('spam'*3)"
      ],
      "metadata": {
        "colab": {
          "base_uri": "https://localhost:8080/"
        },
        "id": "O4EafoI1NsHc",
        "outputId": "a7e76cd3-9bc4-45a4-a68a-21bd66e805e7"
      },
      "execution_count": null,
      "outputs": [
        {
          "output_type": "stream",
          "name": "stdout",
          "text": [
            "spamspamspam\n",
            "spamspamspam\n"
          ]
        }
      ]
    },
    {
      "cell_type": "markdown",
      "source": [
        "---"
      ],
      "metadata": {
        "id": "YpwqidekzATG"
      }
    },
    {
      "cell_type": "markdown",
      "source": [
        "\n",
        "8. Why is eggs a valid variable name while 100 is invalid?\n",
        "\n",
        "**Ans:** Because the variable declartion in python is that the variable name must start with a alphabate or underscore '_'\n",
        "\n",
        "For eg : a = 10, str1 = \"Data\", _val = -12.34"
      ],
      "metadata": {
        "id": "IYs00AUDO36u"
      }
    },
    {
      "cell_type": "markdown",
      "source": [
        "---"
      ],
      "metadata": {
        "id": "i7Hw1NL-zB3N"
      }
    },
    {
      "cell_type": "markdown",
      "source": [
        "9. What three functions can be used to get the integer, floating-point number, or string version of a value?\n",
        "\n",
        "**Ans:** Typecasting can be used to get the value\n",
        "    \n",
        "    **for** int : int()\n",
        "    for float : float()\n",
        "    for string : str()\n"
      ],
      "metadata": {
        "id": "a75kwSodRZeh"
      }
    },
    {
      "cell_type": "code",
      "source": [
        "print('int(10.0) -> ',int(10.0)) # int() function converts given input to int\n",
        "print('float(10) -> ',float(10)) # float() function converts given input to float\n",
        "print('str(10) -> ',str(10)) # str() function converts given input to string\n"
      ],
      "metadata": {
        "colab": {
          "base_uri": "https://localhost:8080/"
        },
        "id": "KnhobbKZS3La",
        "outputId": "93a2c128-abfe-4e7c-f4f2-7f3bf36738e4"
      },
      "execution_count": null,
      "outputs": [
        {
          "output_type": "stream",
          "name": "stdout",
          "text": [
            "int(10.0) ->  10\n",
            "float(10) ->  10.0\n",
            "str(10) ->  10\n"
          ]
        }
      ]
    },
    {
      "cell_type": "markdown",
      "source": [
        "---"
      ],
      "metadata": {
        "id": "adP6McsGzHnH"
      }
    },
    {
      "cell_type": "markdown",
      "source": [
        "10. Why does this expression cause an error? How can you fix it?\n",
        "\n",
        "    \n",
        "'I have eaten ' + 99 + 'burritos.'\n",
        "\n",
        "**Ans:** This cause of error is 99 because 99 is not a string. 99 must be typecasted to a string to fix this error. the correct way is:"
      ],
      "metadata": {
        "id": "NkLruqguTMZH"
      }
    },
    {
      "cell_type": "code",
      "source": [
        "'I have eaten ' + str(99) + ' burritos.'"
      ],
      "metadata": {
        "colab": {
          "base_uri": "https://localhost:8080/",
          "height": 35
        },
        "id": "tt2fOUX-T2Dv",
        "outputId": "58f566ad-4771-4bc6-d385-44af05d143b9"
      },
      "execution_count": null,
      "outputs": [
        {
          "output_type": "execute_result",
          "data": {
            "text/plain": [
              "'I have eaten 99 burritos.'"
            ],
            "application/vnd.google.colaboratory.intrinsic+json": {
              "type": "string"
            }
          },
          "metadata": {},
          "execution_count": 9
        }
      ]
    },
    {
      "cell_type": "markdown",
      "source": [
        "---"
      ],
      "metadata": {
        "id": "zZyk_1eczKHe"
      }
    }
  ]
}