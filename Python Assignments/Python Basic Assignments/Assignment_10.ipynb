{
  "nbformat": 4,
  "nbformat_minor": 0,
  "metadata": {
    "colab": {
      "provenance": []
    },
    "kernelspec": {
      "name": "python3",
      "display_name": "Python 3"
    },
    "language_info": {
      "name": "python"
    }
  },
  "cells": [
    {
      "cell_type": "markdown",
      "source": [
        "**Assignment 10**"
      ],
      "metadata": {
        "id": "LXpmBIWDV3vF"
      }
    },
    {
      "cell_type": "markdown",
      "source": [
        "1. How do you distinguish between shutil.copy() and shutil.copytree()?\n",
        "**Ans:**shutil.copy() will copy a single file and shutil.copytree() will copy an entire folder and every folder and file contained in it."
      ],
      "metadata": {
        "id": "wfzzHGs_V7RZ"
      }
    },
    {
      "cell_type": "markdown",
      "source": [
        "---"
      ],
      "metadata": {
        "id": "XW1ox5_7Wa33"
      }
    },
    {
      "cell_type": "markdown",
      "source": [
        "2. What function is used to rename files??\n",
        "**Ans:** `os.rename()` function is used to rename files or directories using a python program, this function takes two arguments `src` and `dest`, `src` represents the name file/directory which we want to rename, whereas `dest` represents the new name of the file/directory."
      ],
      "metadata": {
        "id": "zAAELdPRWbeM"
      }
    },
    {
      "cell_type": "markdown",
      "source": [
        "---"
      ],
      "metadata": {
        "id": "u7pnhReyWjNK"
      }
    },
    {
      "cell_type": "markdown",
      "source": [
        "3. What is the difference between the delete functions in the send2trash and shutil modules?\n",
        "**Ans:**send2trash sends file to recycle bin and shutil module deletes file permanantly."
      ],
      "metadata": {
        "id": "I6jMqioyWjoj"
      }
    },
    {
      "cell_type": "markdown",
      "source": [
        "---"
      ],
      "metadata": {
        "id": "fcgIOHKEWuL3"
      }
    },
    {
      "cell_type": "markdown",
      "source": [
        "4. ZipFile objects have a close() method just like File objects’ close() method. What ZipFile method is equivalent to File objects’ open() method?\n",
        "**Ans:** ZipFile Module provides a method called as `zipfile.ZipFile()` to read and write to zipFiles. it takes arugments lile filename and mode etc `zipfile.ZipFile('filename', mode = 'r')`"
      ],
      "metadata": {
        "id": "yxu6CGLDWumx"
      }
    },
    {
      "cell_type": "code",
      "source": [
        "import zipfile as zf\n",
        "a = zf.ZipFile(\"abc.zip\",'w')\n",
        "a.close()"
      ],
      "metadata": {
        "id": "nd4lNWMSXBQ4"
      },
      "execution_count": 3,
      "outputs": []
    },
    {
      "cell_type": "markdown",
      "source": [
        "---"
      ],
      "metadata": {
        "id": "_rsHClErW6xQ"
      }
    },
    {
      "cell_type": "markdown",
      "source": [
        "5. Create a programme that searches a folder tree for files with a certain file extension (such as .pdf or .jpg). Copy these files from whatever location they are in to a new folder\n",
        "**Ans:**"
      ],
      "metadata": {
        "id": "CFp13DF0W7OV"
      }
    },
    {
      "cell_type": "code",
      "source": [
        "import os\n",
        "import shutil\n",
        "\n",
        "def search_copy(source,destination,extensions):\n",
        "    source = os.path.abspath(source)\n",
        "    destination = os.path.abspath(destination)\n",
        "    for foldername, subfolder, filenames in os.walk(source):\n",
        "        print(f'Folder Name ➞ {foldername}',end='\\n\\n')\n",
        "        print(f'Sub Folders ➞ {subfolder}',end='\\n\\n')\n",
        "        print(f'Files ➞ {filenames}',end='\\n\\n')\n",
        "        for filename in filenames:\n",
        "            fileName,extension = os.path.splitext(filename)\n",
        "            if extension in extensions:\n",
        "                targetFile = foldername+os.path.sep+fileName+extension\n",
        "                shutil.copy(targetFile, destination)\n",
        "        print(f'Files copied successfully from {source} to {destination}')\n",
        "    \n",
        "extensions = ['.pdf','.jpg','.ipynb']\n",
        "source = 'Source Folder'\n",
        "destination = 'Destination Folder'\n",
        "search_copy(source, destination, extensions)"
      ],
      "metadata": {
        "id": "4vlbJWRQW-zX"
      },
      "execution_count": 2,
      "outputs": []
    },
    {
      "cell_type": "markdown",
      "source": [
        "---"
      ],
      "metadata": {
        "id": "hPftK8aKXNAA"
      }
    }
  ]
}