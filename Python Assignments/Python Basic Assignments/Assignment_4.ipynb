{
  "nbformat": 4,
  "nbformat_minor": 0,
  "metadata": {
    "colab": {
      "provenance": []
    },
    "kernelspec": {
      "name": "python3",
      "display_name": "Python 3"
    },
    "language_info": {
      "name": "python"
    }
  },
  "cells": [
    {
      "cell_type": "markdown",
      "source": [
        "**Assignment 4**"
      ],
      "metadata": {
        "id": "ibWZF8QDLEm8"
      }
    },
    {
      "cell_type": "markdown",
      "source": [
        "1. What exactly is [ ]?\n",
        "**Ans:** The empty list represented by []. It is a list that contains no items. "
      ],
      "metadata": {
        "id": "QGCA5JE_LFNK"
      }
    },
    {
      "cell_type": "markdown",
      "source": [
        "---"
      ],
      "metadata": {
        "id": "QYSqWbLNMBjw"
      }
    },
    {
      "cell_type": "markdown",
      "source": [
        "2. In a list of values stored in a variable called spam, how would you assign the value 'hello' as the third value? (Assume [2, 4, 6, 8, 10] are in spam.)\n",
        "**Ans:** spam[2]='hello' \n",
        "\n",
        "As lists follows zero based indexing."
      ],
      "metadata": {
        "id": "YNMKHZ7XL769"
      }
    },
    {
      "cell_type": "code",
      "source": [
        "spam = [2,3,4,6,8,10]\n",
        "spam[2]='hello'\n",
        "spam"
      ],
      "metadata": {
        "colab": {
          "base_uri": "https://localhost:8080/"
        },
        "id": "3JmfUB1mMJcm",
        "outputId": "22ccdf12-8bde-40b0-ba92-b2e233681f17"
      },
      "execution_count": 1,
      "outputs": [
        {
          "output_type": "execute_result",
          "data": {
            "text/plain": [
              "[2, 3, 'hello', 6, 8, 10]"
            ]
          },
          "metadata": {},
          "execution_count": 1
        }
      ]
    },
    {
      "cell_type": "markdown",
      "source": [
        "---"
      ],
      "metadata": {
        "id": "TZnsHaK9MIn2"
      }
    },
    {
      "cell_type": "markdown",
      "source": [
        "**Let&#39;s pretend the spam includes the list [&#39;a&#39;, &#39;b&#39;, &#39;c&#39;, &#39;d&#39;] for the next three queries.**"
      ],
      "metadata": {
        "id": "e-diufkzRDL8"
      }
    },
    {
      "cell_type": "markdown",
      "source": [
        "3. What is the value of spam[int(int('3'*2)//11)] ?\n",
        "\n",
        "**Ans:** \n"
      ],
      "metadata": {
        "id": "qa-biUI2MP25"
      }
    },
    {
      "cell_type": "code",
      "source": [
        "spam=['a','b','c','d']\n",
        "print(spam[int(int('3'*2)//11)])"
      ],
      "metadata": {
        "colab": {
          "base_uri": "https://localhost:8080/"
        },
        "id": "b4FBiO3JRV2q",
        "outputId": "bdf4c1d9-9468-48dd-d067-334d28708487"
      },
      "execution_count": 2,
      "outputs": [
        {
          "output_type": "stream",
          "name": "stdout",
          "text": [
            "d\n"
          ]
        }
      ]
    },
    {
      "cell_type": "markdown",
      "source": [
        "---"
      ],
      "metadata": {
        "id": "hVzvmblIRc6u"
      }
    },
    {
      "cell_type": "markdown",
      "source": [
        "4. What is the value of spam[-1]?\n",
        "**Ans:**"
      ],
      "metadata": {
        "id": "p1vauI_aRvPF"
      }
    },
    {
      "cell_type": "code",
      "source": [
        "spam=['a','b','c','d']\n",
        "print(spam[-1])"
      ],
      "metadata": {
        "colab": {
          "base_uri": "https://localhost:8080/"
        },
        "id": "3as4PzCxRtMu",
        "outputId": "07b296ea-5004-4970-c06d-8291105ad32b"
      },
      "execution_count": 3,
      "outputs": [
        {
          "output_type": "stream",
          "name": "stdout",
          "text": [
            "d\n"
          ]
        }
      ]
    },
    {
      "cell_type": "markdown",
      "source": [
        "---"
      ],
      "metadata": {
        "id": "lrQrJyjMRt5A"
      }
    },
    {
      "cell_type": "markdown",
      "source": [
        "5. What is the value of spam[:2]?\n",
        "**Ans:**"
      ],
      "metadata": {
        "id": "7BXVrX5WR9G-"
      }
    },
    {
      "cell_type": "code",
      "source": [
        "spam=['a','b','c','d']\n",
        "print(spam[:2])"
      ],
      "metadata": {
        "colab": {
          "base_uri": "https://localhost:8080/"
        },
        "id": "-yofgEFCRfnu",
        "outputId": "62ca8649-35cd-42fd-9ca2-17f593d5eb36"
      },
      "execution_count": 4,
      "outputs": [
        {
          "output_type": "stream",
          "name": "stdout",
          "text": [
            "['a', 'b']\n"
          ]
        }
      ]
    },
    {
      "cell_type": "markdown",
      "source": [
        "---"
      ],
      "metadata": {
        "id": "PeAfaUZ4STkM"
      }
    },
    {
      "cell_type": "markdown",
      "source": [
        "**Let&#39;s pretend bacon has the list [3.14, &#39;cat,&#39; 11, &#39;cat,&#39; True] for the next three questions.**"
      ],
      "metadata": {
        "id": "nS0ADVV4SUrK"
      }
    },
    {
      "cell_type": "markdown",
      "source": [
        "6. What is the value of bacon.index(&#39;cat&#39;)?\n",
        "**Ans:**"
      ],
      "metadata": {
        "id": "ul43SD6OSW87"
      }
    },
    {
      "cell_type": "code",
      "source": [
        "bacon=[3.14,'cat',11,'cat',True]\n",
        "print(bacon.index('cat'))"
      ],
      "metadata": {
        "colab": {
          "base_uri": "https://localhost:8080/"
        },
        "id": "qRA1oZALSbOL",
        "outputId": "c4aa89f2-aca7-4535-ddb9-cd2565c0e3c6"
      },
      "execution_count": 5,
      "outputs": [
        {
          "output_type": "stream",
          "name": "stdout",
          "text": [
            "1\n"
          ]
        }
      ]
    },
    {
      "cell_type": "markdown",
      "source": [
        "---"
      ],
      "metadata": {
        "id": "PjsUqK4ISabX"
      }
    },
    {
      "cell_type": "markdown",
      "source": [
        "7. How does bacon.append(99) change the look of the list value in bacon?\n",
        "**Ans:** The append method adds new elements to the end of the list"
      ],
      "metadata": {
        "id": "MsamBDxfSmSr"
      }
    },
    {
      "cell_type": "code",
      "source": [
        "bacon=[3.14,'cat',11,'cat',True]\n",
        "bacon.append(99) # appends 99 to the end of the list\n",
        "print(bacon)"
      ],
      "metadata": {
        "colab": {
          "base_uri": "https://localhost:8080/"
        },
        "id": "GxbnMo3lSrar",
        "outputId": "2ee15ffd-ee75-40a8-a088-ec77e6837f38"
      },
      "execution_count": 6,
      "outputs": [
        {
          "output_type": "stream",
          "name": "stdout",
          "text": [
            "[3.14, 'cat', 11, 'cat', True, 99]\n"
          ]
        }
      ]
    },
    {
      "cell_type": "markdown",
      "source": [
        "---"
      ],
      "metadata": {
        "id": "cyEP9JiuS9j0"
      }
    },
    {
      "cell_type": "markdown",
      "source": [
        "8. How does bacon.remove(&#39;cat&#39;) change the look of the list in bacon?\n",
        "**Ans:** The remove method removes the first occurence of the element in the list"
      ],
      "metadata": {
        "id": "kOUX5cdKTDho"
      }
    },
    {
      "cell_type": "code",
      "source": [
        "bacon=[3.14,'cat',11,'cat',True]\n",
        "bacon.remove('cat')\n",
        "print(bacon)"
      ],
      "metadata": {
        "colab": {
          "base_uri": "https://localhost:8080/"
        },
        "id": "fOSPKTiFS-ex",
        "outputId": "db038033-0ec0-4689-8033-d534baba517b"
      },
      "execution_count": 7,
      "outputs": [
        {
          "output_type": "stream",
          "name": "stdout",
          "text": [
            "[3.14, 11, 'cat', True]\n"
          ]
        }
      ]
    },
    {
      "cell_type": "markdown",
      "source": [
        "---"
      ],
      "metadata": {
        "id": "brKiPBbsTXo7"
      }
    },
    {
      "cell_type": "markdown",
      "source": [
        "9. What are the list concatenation and list replication operators?\n",
        "**Ans:** The operator for list concatenation is +, while the operator for replication is *. (This is the same as for strings.)"
      ],
      "metadata": {
        "id": "HBfQsL3eTZlG"
      }
    },
    {
      "cell_type": "code",
      "source": [
        "list_1 = ['ML','DL','AI','CV','NLP']\n",
        "list_2 = ['RNN','CNN','SVN']\n",
        "print(list_1 + list_2) # List Concatenation\n",
        "print(list_2*2) # List Replication"
      ],
      "metadata": {
        "colab": {
          "base_uri": "https://localhost:8080/"
        },
        "id": "z-OfKT7MTYu2",
        "outputId": "c5dc10be-63ca-4f45-da27-439e95226c8e"
      },
      "execution_count": 8,
      "outputs": [
        {
          "output_type": "stream",
          "name": "stdout",
          "text": [
            "['ML', 'DL', 'AI', 'CV', 'NLP', 'RNN', 'CNN', 'SVN']\n",
            "['RNN', 'CNN', 'SVN', 'RNN', 'CNN', 'SVN']\n"
          ]
        }
      ]
    },
    {
      "cell_type": "markdown",
      "source": [
        "---"
      ],
      "metadata": {
        "id": "A1j2jR4qTwVc"
      }
    },
    {
      "cell_type": "markdown",
      "source": [
        "10. What is the difference between the list method append() and insert()?\n",
        "**Ans:** While append() will add values only to the end of a list, insert() can add them anywhere in the list."
      ],
      "metadata": {
        "id": "GIr3GIdRTyHQ"
      }
    },
    {
      "cell_type": "code",
      "source": [
        "list = [1,2,3,4,5]\n",
        "list.append(100)\n",
        "print(list)\n",
        "list.insert(2,'test')\n",
        "print(list)"
      ],
      "metadata": {
        "colab": {
          "base_uri": "https://localhost:8080/"
        },
        "id": "a-X6qCDlTxUc",
        "outputId": "91b83951-cbe9-41ed-8a99-d5fbe3a28368"
      },
      "execution_count": 11,
      "outputs": [
        {
          "output_type": "stream",
          "name": "stdout",
          "text": [
            "[1, 2, 3, 4, 5, 100]\n",
            "[1, 2, 'test', 3, 4, 5, 100]\n"
          ]
        }
      ]
    },
    {
      "cell_type": "markdown",
      "source": [
        "---"
      ],
      "metadata": {
        "id": "tkUtfPe9T30K"
      }
    },
    {
      "cell_type": "markdown",
      "source": [
        "11. What are the two methods for removing items from a list?\n",
        "**Ans:** The del statement and the remove() method are two ways to remove values from a list."
      ],
      "metadata": {
        "id": "zt3OD_lwT5JB"
      }
    },
    {
      "cell_type": "code",
      "source": [
        "numbers = [1, 2, 3, 2, 3, 4, 5]\n",
        "del numbers[2]\n",
        "print(numbers)"
      ],
      "metadata": {
        "colab": {
          "base_uri": "https://localhost:8080/"
        },
        "id": "Er9f2S33UEv_",
        "outputId": "289b0de1-a9e7-424d-fce8-4072e85daf75"
      },
      "execution_count": 9,
      "outputs": [
        {
          "output_type": "stream",
          "name": "stdout",
          "text": [
            "[1, 2, 2, 3, 4, 5]\n"
          ]
        }
      ]
    },
    {
      "cell_type": "markdown",
      "source": [
        "---"
      ],
      "metadata": {
        "id": "wH35-QW7UVk5"
      }
    },
    {
      "cell_type": "markdown",
      "source": [
        "12. Describe how list values and string values are identical.\n",
        "**Ans:** Below are some reasons how list values and string values are identical:\n",
        "\n",
        "1. Both lists and strings can be passed to len() function\n",
        "2. Have indexes and slices, be used in for loops,\n",
        "3. Can be concatenated or replicated\n",
        "4. Can be used with the in and not in operators."
      ],
      "metadata": {
        "id": "j7ZUl2WCUWur"
      }
    },
    {
      "cell_type": "markdown",
      "source": [
        "---"
      ],
      "metadata": {
        "id": "tJr4jw1LUlSz"
      }
    },
    {
      "cell_type": "markdown",
      "source": [
        "13. What's the difference between tuples and lists?\n",
        "**Ans:** Lists are Mutable, Indexable and Slicable. they can have values added, removed, or changed. Tuples are Immutable but Indexable and Slicable. the tuple values cannot be changed at all. Also, tuples are represented using parentheses, (), while lists use the square brackets, []."
      ],
      "metadata": {
        "id": "tMzXT8QZUmMg"
      }
    },
    {
      "cell_type": "code",
      "source": [
        "list_num = [1,2,3,4]\n",
        "tup_num = (1,2,3,4)\n",
        "\n",
        "print(list_num)\n",
        "print(tup_num)"
      ],
      "metadata": {
        "colab": {
          "base_uri": "https://localhost:8080/"
        },
        "id": "6sYAoyAVUsoH",
        "outputId": "3ab30101-22e3-4bbf-b022-a758a2b41c79"
      },
      "execution_count": 12,
      "outputs": [
        {
          "output_type": "stream",
          "name": "stdout",
          "text": [
            "[1, 2, 3, 4]\n",
            "(1, 2, 3, 4)\n"
          ]
        }
      ]
    },
    {
      "cell_type": "markdown",
      "source": [
        "---"
      ],
      "metadata": {
        "id": "SNQUw929VAJ1"
      }
    },
    {
      "cell_type": "markdown",
      "source": [
        "14. How do you type a tuple value that only contains the integer 42?\n",
        "**Ans:** The trailing comma is mandatory otherwise its considered as a int by Interpreter"
      ],
      "metadata": {
        "id": "1U6I49anVGz2"
      }
    },
    {
      "cell_type": "code",
      "source": [
        "tup1=(42)\n",
        "tup2=(42,)\n",
        "print(type(tup1))\n",
        "print(type(tup2))"
      ],
      "metadata": {
        "colab": {
          "base_uri": "https://localhost:8080/"
        },
        "id": "eEtIE43VU_b2",
        "outputId": "b2eca1c9-a6a5-4e8b-d3c6-e7e9481495df"
      },
      "execution_count": 13,
      "outputs": [
        {
          "output_type": "stream",
          "name": "stdout",
          "text": [
            "<class 'int'>\n",
            "<class 'tuple'>\n"
          ]
        }
      ]
    },
    {
      "cell_type": "markdown",
      "source": [
        "---"
      ],
      "metadata": {
        "id": "_5caLHJTWwhs"
      }
    },
    {
      "cell_type": "markdown",
      "source": [
        "15. How do you get a list value's tuple form? How do you get a tuple value's list form?\n",
        "**Ans:** The tuple() and list() functions, respectively are used to convert a list to tuple and vice versa"
      ],
      "metadata": {
        "id": "S9vTQOWDW0uJ"
      }
    },
    {
      "cell_type": "markdown",
      "source": [
        "---"
      ],
      "metadata": {
        "id": "ZuVQq5wTW4Pr"
      }
    },
    {
      "cell_type": "markdown",
      "source": [
        "16. Variables that \"contain\" list values are not necessarily lists themselves. Instead, what do they contain?\n",
        "**Ans:** They contain references to list values."
      ],
      "metadata": {
        "id": "V0z86sfeW4aV"
      }
    },
    {
      "cell_type": "markdown",
      "source": [
        "---"
      ],
      "metadata": {
        "id": "X-xsKtu0XF64"
      }
    },
    {
      "cell_type": "markdown",
      "source": [
        "17. How do you distinguish between copy.copy() and copy.deepcopy()?\n",
        "**Ans:** The copy.copy() function will do a shallow copy of a list, while the copy.deepcopy() function will do a deep copy of a list. That is, only copy.deepcopy() will duplicate any lists inside the list."
      ],
      "metadata": {
        "id": "2HFWw_ErXGCh"
      }
    },
    {
      "cell_type": "code",
      "source": [
        "import copy\n",
        "li1 = [1, 2, [3,5], 4]\n",
        "li2 = copy.copy(li1)\n",
        "li3 = copy.deepcopy(li1)\n",
        "print(li1)\n",
        "print(li2)\n",
        "print(li3)"
      ],
      "metadata": {
        "colab": {
          "base_uri": "https://localhost:8080/"
        },
        "id": "Ik6HYGBqXT8I",
        "outputId": "cde1c11b-4a86-48ef-9960-3dfa8ac2c471"
      },
      "execution_count": 15,
      "outputs": [
        {
          "output_type": "stream",
          "name": "stdout",
          "text": [
            "[1, 2, [3, 5], 4]\n",
            "[1, 2, [3, 5], 4]\n",
            "[1, 2, [3, 5], 4]\n"
          ]
        }
      ]
    },
    {
      "cell_type": "markdown",
      "source": [
        "---"
      ],
      "metadata": {
        "id": "UG0CjaM_XKL0"
      }
    }
  ]
}